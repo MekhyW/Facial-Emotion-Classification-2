{
 "cells": [
  {
   "cell_type": "code",
   "execution_count": 1,
   "metadata": {},
   "outputs": [
    {
     "name": "stderr",
     "output_type": "stream",
     "text": [
      "C:\\Users\\felip\\AppData\\Roaming\\Python\\Python310\\site-packages\\scipy\\__init__.py:169: UserWarning: A NumPy version >=1.18.5 and <1.26.0 is required for this version of SciPy (detected version 1.26.4\n",
      "  warnings.warn(f\"A NumPy version >={np_minversion} and <{np_maxversion}\"\n"
     ]
    },
    {
     "data": {
      "text/html": [
       "<div>\n",
       "<style scoped>\n",
       "    .dataframe tbody tr th:only-of-type {\n",
       "        vertical-align: middle;\n",
       "    }\n",
       "\n",
       "    .dataframe tbody tr th {\n",
       "        vertical-align: top;\n",
       "    }\n",
       "\n",
       "    .dataframe thead th {\n",
       "        text-align: right;\n",
       "    }\n",
       "</style>\n",
       "<table border=\"1\" class=\"dataframe\">\n",
       "  <thead>\n",
       "    <tr style=\"text-align: right;\">\n",
       "      <th></th>\n",
       "      <th>label</th>\n",
       "      <th>video</th>\n",
       "      <th>frame</th>\n",
       "      <th>landmarks</th>\n",
       "    </tr>\n",
       "  </thead>\n",
       "  <tbody>\n",
       "    <tr>\n",
       "      <th>0</th>\n",
       "      <td>happy</td>\n",
       "      <td>../data/35666/_0tf2n3rlJU_0.mp4</td>\n",
       "      <td>30</td>\n",
       "      <td>[0.09155383634728674, 0.45072657894048856, 0.1...</td>\n",
       "    </tr>\n",
       "    <tr>\n",
       "      <th>1</th>\n",
       "      <td>happy</td>\n",
       "      <td>../data/35666/_0tf2n3rlJU_0.mp4</td>\n",
       "      <td>31</td>\n",
       "      <td>[0.04696611706300864, 0.40927616297764674, 0.1...</td>\n",
       "    </tr>\n",
       "    <tr>\n",
       "      <th>2</th>\n",
       "      <td>happy</td>\n",
       "      <td>../data/35666/_0tf2n3rlJU_0.mp4</td>\n",
       "      <td>32</td>\n",
       "      <td>[0.047119087721749775, 0.41060919300381943, 0....</td>\n",
       "    </tr>\n",
       "    <tr>\n",
       "      <th>3</th>\n",
       "      <td>happy</td>\n",
       "      <td>../data/35666/_0tf2n3rlJU_0.mp4</td>\n",
       "      <td>33</td>\n",
       "      <td>[0.04064085637869828, 0.4199555159132155, 0.17...</td>\n",
       "    </tr>\n",
       "    <tr>\n",
       "      <th>4</th>\n",
       "      <td>happy</td>\n",
       "      <td>../data/35666/_0tf2n3rlJU_0.mp4</td>\n",
       "      <td>34</td>\n",
       "      <td>[0.06152560852783227, 0.4306792596948259, 0.17...</td>\n",
       "    </tr>\n",
       "  </tbody>\n",
       "</table>\n",
       "</div>"
      ],
      "text/plain": [
       "   label                            video  frame  \\\n",
       "0  happy  ../data/35666/_0tf2n3rlJU_0.mp4     30   \n",
       "1  happy  ../data/35666/_0tf2n3rlJU_0.mp4     31   \n",
       "2  happy  ../data/35666/_0tf2n3rlJU_0.mp4     32   \n",
       "3  happy  ../data/35666/_0tf2n3rlJU_0.mp4     33   \n",
       "4  happy  ../data/35666/_0tf2n3rlJU_0.mp4     34   \n",
       "\n",
       "                                           landmarks  \n",
       "0  [0.09155383634728674, 0.45072657894048856, 0.1...  \n",
       "1  [0.04696611706300864, 0.40927616297764674, 0.1...  \n",
       "2  [0.047119087721749775, 0.41060919300381943, 0....  \n",
       "3  [0.04064085637869828, 0.4199555159132155, 0.17...  \n",
       "4  [0.06152560852783227, 0.4306792596948259, 0.17...  "
      ]
     },
     "execution_count": 1,
     "metadata": {},
     "output_type": "execute_result"
    }
   ],
   "source": [
    "import pandas as pd\n",
    "import numpy as np\n",
    "import matplotlib.pyplot as plt\n",
    "from sklearn import decomposition\n",
    "\n",
    "df = pd.read_parquet('../data/landmarks.parquet')\n",
    "\n",
    "df.head()"
   ]
  },
  {
   "cell_type": "code",
   "execution_count": 2,
   "metadata": {},
   "outputs": [],
   "source": [
    "y = df[\"label\"]\n",
    "X = df[\"landmarks\"]\n",
    "X = np.array(X.tolist())"
   ]
  },
  {
   "cell_type": "code",
   "execution_count": 3,
   "metadata": {},
   "outputs": [
    {
     "data": {
      "image/png": "[encoded data removed]",
      "text/plain": [
       "<Figure size 500x300 with 1 Axes>"
      ]
     },
     "metadata": {},
     "output_type": "display_data"
    },
    {
     "name": "stdout",
     "output_type": "stream",
     "text": [
      "Top Cumulative Explained Variance:  0.9974848102312088\n"
     ]
    }
   ],
   "source": [
    "n_components = 20\n",
    "pca = decomposition.PCA(n_components=n_components)\n",
    "pca.fit(X)\n",
    "\n",
    "plt.figure(figsize=(5, 3))\n",
    "cumulative_sum = np.cumsum(pca.explained_variance_ratio_)\n",
    "plt.plot(cumulative_sum)\n",
    "plt.xlabel('Number of Components')\n",
    "plt.ylabel('Cumulative Explained Variance')\n",
    "plt.show()\n",
    "\n",
    "print(\"Top Cumulative Explained Variance: \", cumulative_sum[n_components-1])"
   ]
  },
  {
   "cell_type": "code",
   "execution_count": 4,
   "metadata": {},
   "outputs": [],
   "source": [
    "principal_components = pca.transform(X)"
   ]
  },
  {
   "cell_type": "code",
   "execution_count": 5,
   "metadata": {},
   "outputs": [
    {
     "data": {
      "text/html": [
       "<div>\n",
       "<style scoped>\n",
       "    .dataframe tbody tr th:only-of-type {\n",
       "        vertical-align: middle;\n",
       "    }\n",
       "\n",
       "    .dataframe tbody tr th {\n",
       "        vertical-align: top;\n",
       "    }\n",
       "\n",
       "    .dataframe thead th {\n",
       "        text-align: right;\n",
       "    }\n",
       "</style>\n",
       "<table border=\"1\" class=\"dataframe\">\n",
       "  <thead>\n",
       "    <tr style=\"text-align: right;\">\n",
       "      <th></th>\n",
       "      <th>PC1</th>\n",
       "      <th>PC2</th>\n",
       "      <th>PC3</th>\n",
       "      <th>PC4</th>\n",
       "      <th>PC5</th>\n",
       "      <th>PC6</th>\n",
       "      <th>PC7</th>\n",
       "      <th>PC8</th>\n",
       "      <th>PC9</th>\n",
       "      <th>PC10</th>\n",
       "      <th>PC11</th>\n",
       "      <th>PC12</th>\n",
       "      <th>PC13</th>\n",
       "      <th>PC14</th>\n",
       "      <th>PC15</th>\n",
       "      <th>PC16</th>\n",
       "      <th>PC17</th>\n",
       "      <th>PC18</th>\n",
       "      <th>PC19</th>\n",
       "      <th>PC20</th>\n",
       "    </tr>\n",
       "  </thead>\n",
       "  <tbody>\n",
       "    <tr>\n",
       "      <th>0</th>\n",
       "      <td>-2.919931</td>\n",
       "      <td>2.624154</td>\n",
       "      <td>0.019189</td>\n",
       "      <td>-1.745901</td>\n",
       "      <td>0.048781</td>\n",
       "      <td>-0.584533</td>\n",
       "      <td>-0.066183</td>\n",
       "      <td>-0.361189</td>\n",
       "      <td>-0.154727</td>\n",
       "      <td>0.148172</td>\n",
       "      <td>-0.022633</td>\n",
       "      <td>-0.056332</td>\n",
       "      <td>-0.064585</td>\n",
       "      <td>0.045895</td>\n",
       "      <td>0.152312</td>\n",
       "      <td>0.281226</td>\n",
       "      <td>-0.010112</td>\n",
       "      <td>0.068105</td>\n",
       "      <td>-0.070667</td>\n",
       "      <td>0.167720</td>\n",
       "    </tr>\n",
       "    <tr>\n",
       "      <th>1</th>\n",
       "      <td>-2.425666</td>\n",
       "      <td>1.943809</td>\n",
       "      <td>-0.162745</td>\n",
       "      <td>-0.835240</td>\n",
       "      <td>0.363333</td>\n",
       "      <td>-0.313617</td>\n",
       "      <td>0.029812</td>\n",
       "      <td>-0.323244</td>\n",
       "      <td>-0.080105</td>\n",
       "      <td>0.165745</td>\n",
       "      <td>0.035587</td>\n",
       "      <td>-0.188452</td>\n",
       "      <td>0.043666</td>\n",
       "      <td>-0.017317</td>\n",
       "      <td>0.046475</td>\n",
       "      <td>0.156812</td>\n",
       "      <td>-0.033735</td>\n",
       "      <td>0.133694</td>\n",
       "      <td>-0.067045</td>\n",
       "      <td>0.096506</td>\n",
       "    </tr>\n",
       "    <tr>\n",
       "      <th>2</th>\n",
       "      <td>-2.349361</td>\n",
       "      <td>2.070186</td>\n",
       "      <td>-0.114546</td>\n",
       "      <td>-0.894598</td>\n",
       "      <td>0.222630</td>\n",
       "      <td>-0.289489</td>\n",
       "      <td>0.055417</td>\n",
       "      <td>-0.403261</td>\n",
       "      <td>-0.043620</td>\n",
       "      <td>0.193918</td>\n",
       "      <td>0.012229</td>\n",
       "      <td>-0.208188</td>\n",
       "      <td>0.076526</td>\n",
       "      <td>0.010672</td>\n",
       "      <td>0.041231</td>\n",
       "      <td>0.148540</td>\n",
       "      <td>-0.004347</td>\n",
       "      <td>0.134377</td>\n",
       "      <td>-0.059920</td>\n",
       "      <td>0.083128</td>\n",
       "    </tr>\n",
       "    <tr>\n",
       "      <th>3</th>\n",
       "      <td>-2.319039</td>\n",
       "      <td>2.211985</td>\n",
       "      <td>-0.107307</td>\n",
       "      <td>-1.027317</td>\n",
       "      <td>0.142543</td>\n",
       "      <td>-0.316502</td>\n",
       "      <td>0.069175</td>\n",
       "      <td>-0.457194</td>\n",
       "      <td>-0.072606</td>\n",
       "      <td>0.186789</td>\n",
       "      <td>0.000038</td>\n",
       "      <td>-0.209320</td>\n",
       "      <td>0.102759</td>\n",
       "      <td>0.033662</td>\n",
       "      <td>0.049343</td>\n",
       "      <td>0.149298</td>\n",
       "      <td>-0.001055</td>\n",
       "      <td>0.103226</td>\n",
       "      <td>-0.079370</td>\n",
       "      <td>0.087087</td>\n",
       "    </tr>\n",
       "    <tr>\n",
       "      <th>4</th>\n",
       "      <td>-2.796665</td>\n",
       "      <td>2.635584</td>\n",
       "      <td>0.039614</td>\n",
       "      <td>-0.940008</td>\n",
       "      <td>0.081617</td>\n",
       "      <td>-0.168472</td>\n",
       "      <td>0.180836</td>\n",
       "      <td>-0.499248</td>\n",
       "      <td>-0.077225</td>\n",
       "      <td>0.123918</td>\n",
       "      <td>-0.056776</td>\n",
       "      <td>-0.271494</td>\n",
       "      <td>0.069542</td>\n",
       "      <td>0.028476</td>\n",
       "      <td>0.186310</td>\n",
       "      <td>0.103916</td>\n",
       "      <td>-0.020695</td>\n",
       "      <td>0.113482</td>\n",
       "      <td>-0.058791</td>\n",
       "      <td>0.093259</td>\n",
       "    </tr>\n",
       "  </tbody>\n",
       "</table>\n",
       "</div>"
      ],
      "text/plain": [
       "        PC1       PC2       PC3       PC4       PC5       PC6       PC7  \\\n",
       "0 -2.919931  2.624154  0.019189 -1.745901  0.048781 -0.584533 -0.066183   \n",
       "1 -2.425666  1.943809 -0.162745 -0.835240  0.363333 -0.313617  0.029812   \n",
       "2 -2.349361  2.070186 -0.114546 -0.894598  0.222630 -0.289489  0.055417   \n",
       "3 -2.319039  2.211985 -0.107307 -1.027317  0.142543 -0.316502  0.069175   \n",
       "4 -2.796665  2.635584  0.039614 -0.940008  0.081617 -0.168472  0.180836   \n",
       "\n",
       "        PC8       PC9      PC10      PC11      PC12      PC13      PC14  \\\n",
       "0 -0.361189 -0.154727  0.148172 -0.022633 -0.056332 -0.064585  0.045895   \n",
       "1 -0.323244 -0.080105  0.165745  0.035587 -0.188452  0.043666 -0.017317   \n",
       "2 -0.403261 -0.043620  0.193918  0.012229 -0.208188  0.076526  0.010672   \n",
       "3 -0.457194 -0.072606  0.186789  0.000038 -0.209320  0.102759  0.033662   \n",
       "4 -0.499248 -0.077225  0.123918 -0.056776 -0.271494  0.069542  0.028476   \n",
       "\n",
       "       PC15      PC16      PC17      PC18      PC19      PC20  \n",
       "0  0.152312  0.281226 -0.010112  0.068105 -0.070667  0.167720  \n",
       "1  0.046475  0.156812 -0.033735  0.133694 -0.067045  0.096506  \n",
       "2  0.041231  0.148540 -0.004347  0.134377 -0.059920  0.083128  \n",
       "3  0.049343  0.149298 -0.001055  0.103226 -0.079370  0.087087  \n",
       "4  0.186310  0.103916 -0.020695  0.113482 -0.058791  0.093259  "
      ]
     },
     "execution_count": 5,
     "metadata": {},
     "output_type": "execute_result"
    }
   ],
   "source": [
    "pc_df = pd.DataFrame(data=principal_components, columns=[f\"PC{i+1}\" for i in range(n_components)])\n",
    "pc_df.head()"
   ]
  },
  {
   "cell_type": "code",
   "execution_count": 6,
   "metadata": {},
   "outputs": [],
   "source": [
    "pc_df[\"target\"] = y.to_list()"
   ]
  },
  {
   "cell_type": "code",
   "execution_count": 7,
   "metadata": {},
   "outputs": [],
   "source": [
    "pc_df.to_parquet(\"../data/principal_components_with_labels.parquet\", index=False)"
   ]
  },
  {
   "cell_type": "code",
   "execution_count": 8,
   "metadata": {},
   "outputs": [
    {
     "data": {
      "text/plain": [
       "['../models/pca_model.pkl']"
      ]
     },
     "execution_count": 8,
     "metadata": {},
     "output_type": "execute_result"
    }
   ],
   "source": [
    "import joblib\n",
    "\n",
    "joblib.dump(pca, '../models/pca_model.pkl')"
   ]
  }
 ],
 "metadata": {
  "kernelspec": {
   "display_name": "Python 3",
   "language": "python",
   "name": "python3"
  },
  "language_info": {
   "codemirror_mode": {
    "name": "ipython",
    "version": 3
   },
   "file_extension": ".py",
   "mimetype": "text/x-python",
   "name": "python",
   "nbconvert_exporter": "python",
   "pygments_lexer": "ipython3",
   "version": "3.10.11"
  }
 },
 "nbformat": 4,
 "nbformat_minor": 2
}
